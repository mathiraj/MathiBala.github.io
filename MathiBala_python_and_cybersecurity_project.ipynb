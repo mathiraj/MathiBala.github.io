{
  "nbformat": 4,
  "nbformat_minor": 0,
  "metadata": {
    "colab": {
      "name": "MathiBala python and cybersecurity project.ipynb",
      "provenance": [],
      "collapsed_sections": [],
      "authorship_tag": "ABX9TyOL2CMnBKtKLH57d1OAadRU",
      "include_colab_link": true
    },
    "kernelspec": {
      "name": "python3",
      "display_name": "Python 3"
    },
    "language_info": {
      "name": "python"
    }
  },
  "cells": [
    {
      "cell_type": "markdown",
      "metadata": {
        "id": "view-in-github",
        "colab_type": "text"
      },
      "source": [
        "<a href=\"https://colab.research.google.com/github/mathiraj/MathiBala.github.io/blob/main/MathiBala_python_and_cybersecurity_project.ipynb\" target=\"_parent\"><img src=\"https://colab.research.google.com/assets/colab-badge.svg\" alt=\"Open In Colab\"/></a>"
      ]
    },
    {
      "cell_type": "code",
      "metadata": {
        "colab": {
          "base_uri": "https://localhost:8080/"
        },
        "id": "zIUcglrrZWW6",
        "outputId": "591e7866-d1b4-4ced-a3c8-ef24a6438bc7"
      },
      "source": [
        "import requests\n",
        "#import os\n",
        "from datetime import datetime\n",
        " \n",
        "api_key = '433333b66656ebf7500e7cfd3e77b8dd'\n",
        "location = input(\"Enter the city name: \")\n",
        " \n",
        "complete_api_link = \"https://api.openweathermap.org/data/2.5/weather?q=\"+location+\"&appid=\"+api_key\n",
        "api_link = requests.get(complete_api_link)\n",
        "api_data=api_link.json()\n",
        " \n",
        "#create variables to store and display data\n",
        "temp_city = ((api_data['main']['temp']) - 273.15)\n",
        "weather_desc = api_data['weather'][0]['description']\n",
        "hmdt = api_data['main']['humidity']\n",
        "wind_spd = api_data['wind']['speed']\n",
        "date_time = datetime.now().strftime(\"%d %b %Y | %I:%M:%S %p\")\n",
        " \n",
        "print (\"-----------------------------------------------------------------\")\n",
        "print (\"Weather Stats for - {}  ||  {}\".format(location.upper(),date_time))\n",
        "print (\"-----------------------------------------------------------------\")\n",
        " \n",
        "print (\"Current temperature is: {:.2f} deg C\".format(temp_city))\n",
        "print (\"Current weather desc  :\",weather_desc)\n",
        "print (\"Current Humidity      :\",hmdt, '%')\n",
        "print (\"Current wind speed    :\",wind_spd ,'kmph')\n",
        " \n",
        "print(\"====================================================\")\n",
        " \n",
        "# making a list so that i can print the info to a txt\n",
        "txtlist = [temp_city,weather_desc,hmdt,wind_spd,date_time]\n",
        "#using open() built-in function to write to a text file\n",
        "with open(\"textfile.txt\" , mode= 'w' ,encoding='utf-8') as f :\n",
        " \n",
        "                                     #encoding = utf-8 for linux and cp1252 for win\n",
        "    f.write(\"-------------------------------------------------------------- \\n\")\n",
        "    f.write(\"Weather Stats for - {}  ||  {}\".format(location.upper(), date_time))\n",
        "    f.write(\"\\n -------------------------------------------------------------- \\n\")\n",
        "    f.write(\"Current temperature is: {:.2f} deg C\\n\".format(txtlist[0]))\n",
        " \n",
        "    f.write(\"{},{} \\n\".format(\"Current weather desc :\" ,txtlist[1]))\n",
        "    f.write(\"{},{},{} \\n\".format(\"Current Humidity :\",txtlist[2],\"%\"))\n",
        "    f.write(\"{},{},{} \\n\".format(\"Current wind speed :\",txtlist[3],\"kmph\"))\n",
        "    f.write(\"=================================================\")"
      ],
      "execution_count": null,
      "outputs": [
        {
          "output_type": "stream",
          "text": [
            "Enter the city name: tirunelveli\n",
            "-----------------------------------------------------------------\n",
            "Weather Stats for - TIRUNELVELI  ||  27 Jul 2021 | 04:44:16 PM\n",
            "-----------------------------------------------------------------\n",
            "Current temperature is: 28.45 deg C\n",
            "Current weather desc  : overcast clouds\n",
            "Current Humidity      : 64 %\n",
            "Current wind speed    : 5.47 kmph\n",
            "====================================================\n"
          ],
          "name": "stdout"
        }
      ]
    }
  ]
}